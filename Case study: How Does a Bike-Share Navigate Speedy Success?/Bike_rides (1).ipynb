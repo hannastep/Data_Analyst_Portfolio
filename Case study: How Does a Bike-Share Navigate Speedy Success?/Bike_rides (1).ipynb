{
  "metadata": {
    "kernelspec": {
      "name": "python",
      "display_name": "Python (Pyodide)",
      "language": "python"
    },
    "language_info": {
      "codemirror_mode": {
        "name": "python",
        "version": 3
      },
      "file_extension": ".py",
      "mimetype": "text/x-python",
      "name": "python",
      "nbconvert_exporter": "python",
      "pygments_lexer": "ipython3",
      "version": "3.8"
    }
  },
  "nbformat_minor": 4,
  "nbformat": 4,
  "cells": [
    {
      "cell_type": "markdown",
      "source": "# R: Cyclistic Bike Share Analysis \r\n",
      "metadata": {},
      "attachments": {}
    },
    {
      "cell_type": "markdown",
      "source": "## Connecting MySQL and R\nI have MacOS system, so I installed iODBC Administrator64, and then installed packages and libraries to connect MySQL with R. ",
      "metadata": {}
    },
    {
      "cell_type": "code",
      "source": "## Install Packages and Libraries\n> install.packages(c(\"DBI\", \"RODBC\", \"odbc\", \"dplyr\", \"dbplyr\"))\n> library(DBI)\n> library(RODBC)\n> library(odbc)\n> library(dplyr)\n> library(dbplyr)\r\n",
      "metadata": {
        "trusted": true
      },
      "outputs": [],
      "execution_count": null
    },
    {
      "cell_type": "code",
      "source": "## install MySQL package and library\n> install.packages(\"RMySQL\")\n> library(RMySQL)",
      "metadata": {
        "trusted": true
      },
      "outputs": [],
      "execution_count": null
    },
    {
      "cell_type": "code",
      "source": "## Set up the connection\n> drv <- dbDriver(\"MySQL\")\n> con <- dbConnect(drv, username=\"root\", password=\"***\", dbname =\"bike_share\", host=\"localhost\")\n> dbListTables(con)",
      "metadata": {
        "trusted": true
      },
      "outputs": [],
      "execution_count": null
    },
    {
      "cell_type": "markdown",
      "source": "## Install Packages\nThese packages I used to perfom the analysis",
      "metadata": {}
    },
    {
      "cell_type": "code",
      "source": "## Install packages\n> install.packages(\"tidyverse\")\n> install.packages(\"janitor\")\n> install.packages(\"plyr\")\n> install.packages(\"mice\")\n> install.packages(\"mice\") \n> install.packages(\"modeest\")\n\n## Load libraries\n> library(tidyverse)\n> library(janitor)\n> library(scales)\n> library(modeest)\n> library(plyr) \n> library(mice)",
      "metadata": {
        "trusted": true
      },
      "outputs": [],
      "execution_count": null
    },
    {
      "cell_type": "markdown",
      "source": "## Importing Data",
      "metadata": {}
    },
    {
      "cell_type": "code",
      "source": "Checking folders\n> dbListTables(con)\n[1] \"Bike_Rides\"      \"Bike_share_2023\"",
      "metadata": {
        "trusted": true
      },
      "outputs": [],
      "execution_count": null
    },
    {
      "cell_type": "code",
      "source": "## retrieved data from the “Bike_rides” table and stored it in the bike_rides data frame. \n\n> bike_rides <- dbGetQuery(con, \"SELECT * FROM Bike_rides\")\n> glimpse(bike_rides)\nRows: 5,718,608\nColumns: 13\n$ ride_id            <chr> \"00000065B3150FF2\", \"0000085FE82E5429\", \"0000089D3…\n$ rideable_type      <chr> \"electric_bike\", \"electric_bike\", \"docked_bike\", \"…\n$ started_at         <chr> \"2023-09-24 12:56:50\", \"2023-04-13 17:52:05\", \"202…\n$ ended_at           <chr> \"2023-09-24 13:00:43\", \"2023-04-13 18:10:33\", \"202…\n$ start_station_name <chr> \"Sheridan Rd & Noyes St (NU)\", \"\", \"Clark St & Lak…\n$ start_station_id   <chr> \"604\", \"\", \"KA1503000012\", \"\", \"\", \"TA1309000033\",…\n$ end_station_name   <chr> \"University Library (NU)\", \"Halsted St & 18th St\",…\n$ end_station_id     <chr> \"605\", \"13099\", \"TA1307000062\", \"\", \"13061\", \"1324…\n$ start_lat          <dbl> 42.05820, 41.88000, 41.88602, 41.90000, 41.88000, …\n$ start_lng          <dbl> -87.67743, -87.63000, -87.63088, -87.75000, -87.65…\n$ end_lat            <dbl> 42.05294, 41.85751, 41.89467, 41.90000, 41.90345, …\n$ end_lng            <dbl> -87.67345, -87.64599, -87.63844, -87.76000, -87.66…\n$ member_casual      <chr> \"casual\", \"member\", \"casual\", \"casual\", \"member\", …\n",
      "metadata": {
        "trusted": true
      },
      "outputs": [],
      "execution_count": null
    },
    {
      "cell_type": "code",
      "source": "We have 5,718,608 records. ",
      "metadata": {
        "trusted": true
      },
      "outputs": [],
      "execution_count": null
    },
    {
      "cell_type": "markdown",
      "source": "## Cleaning Data\n\n* To ensure data integrity, we’ll examine whether there are any duplicate records in our dataset.\nSince the ride_id is unique for each ride, we’ll use it as the key to identify duplicates.\n* remove empty rows and columns if nedeed. Based on my research I found empty values only in start station name and end station name, which we don't use in our analys, so I decided to leave this data.\n* check unique values in bike type and member type",
      "metadata": {}
    },
    {
      "cell_type": "code",
      "source": "## Checking for duplicates\n> get_dupes(bike_rides, ride_id)\nNo duplicate combinations found of: ride_id\n [1] ride_id            dupe_count         rideable_type     \n [4] started_at         ended_at           start_station_name\n [7] start_station_id   end_station_name   end_station_id    \n[10] start_lat          start_lng          end_lat           \n[13] end_lng            member_casual     \n<0 rows> (or 0-length row.names)\n\n## Removing empty rows and columns  \n> remove_empty(bike_rides, which = \"rows\")\n\n## Checking unique values in selected columns \n> unique(bike_rides$rideable_type)\n[1] \"electric_bike\" \"docked_bike\"   \"classic_bike\" \n\n> unique(bike_rides$member_casual)\n[1] \"casual\" \"member\"",
      "metadata": {
        "trusted": true
      },
      "outputs": [],
      "execution_count": null
    },
    {
      "cell_type": "markdown",
      "source": "## Adding new calculated column\n### Ride length column \nOne of the most important index is ride length. We have start time and end time. So, we need to calculate ride duration, but before this we need to convert Character format to DataTime format.",
      "metadata": {}
    },
    {
      "cell_type": "code",
      "source": "# Convert 'started_at' column to Date format\n> bike_rides$started_at <- as.POSIXct(bike_rides$started_at)\nbike_rides$ended_at <- as.POSIXct(bike_rides$ended_at)\n\n# Find the length each ride\n> bike_rides$ride_length <- difftime(bike_rides$ended_at,bike_rides$started_at, units = \"mins\")\n> bike_rides$ride_length_rounded <- round(bike_rides$ride_length)\nprint(bike_rides)",
      "metadata": {
        "trusted": true
      },
      "outputs": [],
      "execution_count": null
    },
    {
      "cell_type": "markdown",
      "source": "### Season column \nTo create this column we need to sort data, based on the season: winter, spring, summer or fall.",
      "metadata": {}
    },
    {
      "cell_type": "code",
      "source": " # Create a new column 'season' and initialize with NA values\n> bike_rides$season <- NA\n \n # Assign season based on date\n> for (i in 1:nrow(sample)) {\n   if (bike_rides$started_at[i] >= as.Date(\"2023-06-01\") &&\n     bike_rides$started_at[i] <= as.Date(\"2023-08-31\")) {\n       bike_rides$season[i] <- \"Summer\"\n     } else if (bike_rides$started_at[i] >= as.Date(\"2023-01-01\") &&\n                bike_rides$started_at[i] <= as.Date(\"2023-02-28\")) {\n       bike_rides$season[i] <- \"Winter\"\n     } else if (bike_rides$started_at[i] >= as.Date(\"2023-09-01\") &&\n                bike_rides$started_at[i] <= as.Date(\"2023-11-30\")) {\n       bike_rides$season[i] <- \"Fall\"\n     } else if (bike_rides$started_at[i] >= as.Date(\"2023-03-01\") &&\n                bike_rides$started_at[i] <= as.Date(\"2023-05-31\")) {\n       bike_rides$season[i] <- \"Spring\"\n     } else {\n       bike_rides$season[i] <- \"Winter\"\n     }\n   }\n",
      "metadata": {
        "trusted": true
      },
      "outputs": [],
      "execution_count": null
    },
    {
      "cell_type": "code",
      "source": "Output:\nRows: 5,718,608\nColumns: 16\n$ ride_id             <chr> \"00000065B3150FF2\", \"0000085FE82E5429\", \"0000089D36728778\", \"00000B15294F9057\", \"000010D58FFC4A2B\", \"0000…\n$ rideable_type       <chr> \"electric_bike\", \"electric_bike\", \"docked_bike\", \"electric_bike\", \"electric_bike\", \"classic_bike\", \"elect…\n$ started_at          <dttm> 2023-09-24 12:56:50, 2023-04-13 17:52:05, 2023-05-08 13:22:50, 2023-12-08 17:52:37, 2023-11-10 17:46:50,…\n$ ended_at            <dttm> 2023-09-24 13:00:43, 2023-04-13 18:10:33, 2023-05-08 13:28:53, 2023-12-08 18:00:54, 2023-11-10 17:59:41,…\n$ start_station_name  <chr> \"Sheridan Rd & Noyes St (NU)\", \"\", \"Clark St & Lake St\", \"\", \"\", \"Sheffield Ave & Webster Ave\", \"N Green …\n$ start_station_id    <chr> \"604\", \"\", \"KA1503000012\", \"\", \"\", \"TA1309000033\", \"20246.0\", \"443\", \"KA1503000043\", \"13022\", \"KA15030000…\n$ end_station_name    <chr> \"University Library (NU)\", \"Halsted St & 18th St\", \"Sedgwick St & Huron St\", \"\", \"Ashland Ave & Division …\n$ end_station_id      <chr> \"605\", \"13099\", \"TA1307000062\", \"\", \"13061\", \"13243\", \"13193\", \"KA17018068\", \"WL-012\", \"15541\", \"TA130900…\n$ start_lat           <dbl> 42.05820, 41.88000, 41.88602, 41.90000, 41.88000, 41.92154, 41.88558, 41.97478, 41.88925, 41.89224, 41.78…\n$ start_lng           <dbl> -87.67743, -87.63000, -87.63088, -87.75000, -87.65000, -87.65382, -87.64843, -87.69781, -87.63855, -87.61…\n$ end_lat             <dbl> 42.05294, 41.85751, 41.89467, 41.90000, 41.90345, 41.91262, 41.92182, 41.93935, 41.88338, 41.86829, 41.78…\n$ end_lng             <dbl> -87.67345, -87.64599, -87.63844, -87.76000, -87.66775, -87.68139, -87.64414, -87.68328, -87.64117, -87.62…\n$ member_casual       <chr> \"casual\", \"member\", \"casual\", \"casual\", \"member\", \"member\", \"casual\", \"member\", \"member\", \"casual\", \"memb…\n$ ride_length         <drtn> 3.883333 mins, 18.466667 mins, 6.050000 mins, 8.283333 mins, 12.850000 mins, 12.350000 mins, 18.866667 m…\n$ ride_length_rounded <drtn> 4 mins, 18 mins, 6 mins, 8 mins, 13 mins, 12 mins, 19 mins, 16 mins, 3 mins, 37 mins, 2 mins, 14 mins, 8…\n$ season              <chr> \"Fall\", \"Spring\", \"Spring\", \"Winter\", \"Fall\", \"Summer\", \"Fall\", \"Fall\", \"Winter\", \"Summer\", \"Winter\", \"Wi…",
      "metadata": {
        "trusted": true
      },
      "outputs": [],
      "execution_count": null
    },
    {
      "cell_type": "markdown",
      "source": "### Month column ",
      "metadata": {}
    },
    {
      "cell_type": "code",
      "source": "## Adding column for month\n> bike_rides$month <- format(bike_rides$started_at, \"%B\")",
      "metadata": {
        "trusted": true
      },
      "outputs": [],
      "execution_count": null
    },
    {
      "cell_type": "markdown",
      "source": "### Day of week column ",
      "metadata": {}
    },
    {
      "cell_type": "code",
      "source": "## Adding column for day_of_week\n> bike_rides$day_of_week <- format(as.Date(bike_rides$started_at), \"%A\")\n## Checking new columns\n> head(bike_rides)\n  season     month day_of_week\n1   Fall September      Sunday\n2 Spring     April    Thursday\n3 Spring       May      Monday\n4 Winter  December      Friday\n5   Fall  November      Friday\n6 Summer      June    Thursday",
      "metadata": {
        "trusted": true
      },
      "outputs": [],
      "execution_count": null
    },
    {
      "cell_type": "markdown",
      "source": "### Start Hour column",
      "metadata": {}
    },
    {
      "cell_type": "code",
      "source": "bike_rides$start_hour <- hour(bike_rides$started_at)",
      "metadata": {
        "trusted": true
      },
      "outputs": [],
      "execution_count": null
    },
    {
      "cell_type": "markdown",
      "source": "## Identification of Bad Data\nChecking and removing records, where ride length is negative or equal to 0. ",
      "metadata": {}
    },
    {
      "cell_type": "code",
      "source": "## Converting ride_length into numeric\nbike_rides$ride_length <- as.numeric(bike_rides$ride_length)\n\n# Filter records with ride_length = 0\n> zero_ride_length <- bike_rides[bike_rides$ride_length_rounded == 0, ]\n\n# Found 96729 records with ride duration is equal to 0.",
      "metadata": {
        "trusted": true
      },
      "outputs": [],
      "execution_count": null
    },
    {
      "cell_type": "code",
      "source": "# Removing records with ride_length = 0\n> bike_rides <- bike_rides[!(bike_rides$ride_length != 0),]\n> glimpse(bike_rides)\n\nRows: 5,621,879",
      "metadata": {
        "trusted": true
      },
      "outputs": [],
      "execution_count": null
    },
    {
      "cell_type": "code",
      "source": "## Handling Short Durations. Removing records with ride_length <=1\nbike_rides <- bike_rides[!bike_rides$ride_length_rounded <= 1, ]\n> glimpse(bike_rides)\nRows: 53,071",
      "metadata": {
        "trusted": true
      },
      "outputs": [],
      "execution_count": null
    },
    {
      "cell_type": "code",
      "source": "# Filter records with negative ride_length \n> negative_ride_length <- bike_rides[bike_rides$ride_length_rounded < 0, ]\n\n# Found 0 records with negative ride duration.\n# Total number of deleted rows: 149,800",
      "metadata": {
        "trusted": true
      },
      "outputs": [],
      "execution_count": null
    },
    {
      "cell_type": "code",
      "source": "# Output: \nRows: 5,568,808",
      "metadata": {
        "trusted": true
      },
      "outputs": [],
      "execution_count": null
    },
    {
      "cell_type": "markdown",
      "source": "## Detecting Outliers",
      "metadata": {}
    },
    {
      "cell_type": "code",
      "source": "> summary(bike_rides$ride_length)\n    Min.    1st Qu.   Median   Mean   3rd Qu.      Max. \n    1.02     5.70     9.8    18.67    17.23     98489.07 ",
      "metadata": {
        "trusted": true
      },
      "outputs": [],
      "execution_count": null
    },
    {
      "cell_type": "markdown",
      "source": "The summary statistics for ride_length reveal some extreme values:<bk>\nMinimum: 1.02 minutes<bk>\nMaximum: 98489.07 minutes (equivalent to approximately 68.5 days)<bk>\nLet’s create a boxplot to visualize the distribution of ride lengths by membership type (casual vs. member).",
      "metadata": {}
    },
    {
      "cell_type": "code",
      "source": "# Create a boxplot\nlibrary(ggplot2)\nggplot(bike_rides, aes(x = member_casual, y = ride_length, fill = member_casual)) +\n  geom_boxplot() +\n  labs(title = \"Ride Length Distribution by Membership Type\", x = \"Membership Type\", y = \"Ride Length\")",
      "metadata": {
        "trusted": true
      },
      "outputs": [],
      "execution_count": null
    },
    {
      "cell_type": "code",
      "source": "<img src='Images/R_Project/Graph before z-score.png' />",
      "metadata": {
        "trusted": true
      },
      "outputs": [],
      "execution_count": null
    },
    {
      "cell_type": "markdown",
      "source": "## Outlier Detection and Impact\n\nThe boxplot visually confirms the presence of outliers in our data. These extreme values can distort statistical analyses and affect the reliability of our results. It's essential to handle outliers appropriately to ensure accurate insights and model performance.\n",
      "metadata": {}
    },
    {
      "cell_type": "markdown",
      "source": "## Ride Length Distribution Analysis\n\nThe summary of the `ride_length` variable in the `bike_rides` dataset provides valuable insights about the distribution of ride lengths. Let's break down the key points:\n\n- **Minimum (Min.) Ride Length**: The shortest ride length observed in the dataset is 1.02 minutes (which suggests that someone took the bike by mistake or changed their mind shortly after starting the ride).\n\n- **First Quartile (1st Qu.)**: The 25th percentile (Q1) corresponds to a ride length of 5.7 minutes. Approximately 25% of rides are shorter than this value.\n\n- **Median (Midpoint)**: The median (50th percentile) ride length is 9.80 minutes. Roughly half of the rides fall below this duration.\n\n- **Mean (Average) Ride Length**: The average ride length across all rides is 18.67 minutes. However, this value can be influenced by extreme outliers.\n\n- **Third Quartile (3rd Qu.)**: The 75th percentile (Q3) represents a ride length of 17.23 minutes. Most rides fall below this duration.\n\n- **Maximum (Max.) Ride Length**: The longest ride observed in the dataset is an astonishing 98489.07 minutes (which seems highly unusual and warrants further investigation).\n\n### Conclusions:\n\n- The dataset exhibits a wide range of ride lengths, spanning from very short to extremely long rides.\n- The mean ride length is higher than the median, suggesting the presence of outliers (very long rides) that impact the average.\n- Investigate extreme values (e.g., the ride with a length of 98489.07 minutes) to determine their validity and potential anomalies.\n\nThese insights can guide decision-making related to bike-sharing program management and resource allocation.\n",
      "metadata": {}
    },
    {
      "cell_type": "markdown",
      "source": "### Calculating outliers using Z-Score Method:\nDefine an observation as an outlier if its z-score is less than -3 or greater than 3.\nCalculate the z-score for each value in the ride_length column:",
      "metadata": {}
    },
    {
      "cell_type": "code",
      "source": "> bike_rides$z <- (bike_rides$ride_length - mean(bike_rides$ride_length)) / sd(bike_rides$ride_length)",
      "metadata": {
        "trusted": true
      },
      "outputs": [],
      "execution_count": null
    },
    {
      "cell_type": "code",
      "source": "> outliers <- bike_rides[bike_rides$z > 3, ]",
      "metadata": {
        "trusted": true
      },
      "outputs": [],
      "execution_count": null
    },
    {
      "cell_type": "code",
      "source": "## Removing Outliers\n> bike_rides <- bike_rides[!bike_rides$z > 3,]",
      "metadata": {
        "trusted": true
      },
      "outputs": [],
      "execution_count": null
    },
    {
      "cell_type": "code",
      "source": "## Boxplot after removing outliers\n\n> library(ggplot2)\n> ggplot(bike_rides, aes(x = member_casual, y = ride_length, fill = member_casual)) +\n+     geom_boxplot() +\n+     labs(title = \"Ride Length Distribution by Membership Type\", x = \"Membership Type\", y = \"Ride Length\")",
      "metadata": {
        "trusted": true
      },
      "outputs": [],
      "execution_count": null
    },
    {
      "cell_type": "code",
      "source": "> summary(bike_rides$ride_length)\n   Min.  1st Qu.  Median    Mean   3rd Qu.    Max. \n  1.500   5.783   9.850    15.046  17.267    568.633 ",
      "metadata": {
        "trusted": true
      },
      "outputs": [],
      "execution_count": null
    },
    {
      "cell_type": "code",
      "source": "JPEG AFTER z-score",
      "metadata": {
        "trusted": true
      },
      "outputs": [],
      "execution_count": null
    },
    {
      "cell_type": "markdown",
      "source": "### Grouping data for visualization\n#### by member_casual status\nStarting this section I faced with a problem that i can't group my data (group by()), I just getting an overall summary instead of a grouped summary. But the problem was that I uploaded plyr after dplyr.\nSo, I removed plyr and tried again and I got the grouped summary.",
      "metadata": {}
    },
    {
      "cell_type": "code",
      "source": "> summary(bike_rides$ride_length)\n   Min. 1st Qu.  Median    Mean 3rd Qu.    Max. \n  1.500   5.783   9.850  15.046  17.267 568.633 ",
      "metadata": {
        "trusted": true
      },
      "outputs": [],
      "execution_count": null
    },
    {
      "cell_type": "code",
      "source": "# Calculate average ride length depending by membership type\navg_ride_length <- aggregate(ride_length ~ member_casual, data = bike_rides, FUN = mean)\n\n# Create a bar plot\nlibrary(ggplot2)\nggplot(avg_ride_length, aes(x = member_casual, y = ride_length, fill = member_casual)) +\n  geom_bar(stat = \"identity\") +\n  labs(title = \"Average Ride Length by Membership Type\", x = \"Membership Type\", y = \"Average Ride Length\")",
      "metadata": {
        "trusted": true
      },
      "outputs": [],
      "execution_count": null
    },
    {
      "cell_type": "code",
      "source": "# A tibble: 2 × 7\n  member_casual ride_count ride_percentage average_ride_duration median   max   min\n  <chr>              <int>           <dbl>                 <dbl>  <dbl> <dbl> <dbl>\n1 casual           1997117            35.9                  19.9  12.2   566.  1.02\n2 member           3561550            64.1                  12.1   8.75  566.  1.02",
      "metadata": {
        "trusted": true
      },
      "outputs": [],
      "execution_count": null
    },
    {
      "cell_type": "code",
      "source": "JPEG Avg ride depending from member type\n",
      "metadata": {
        "trusted": true
      },
      "outputs": [],
      "execution_count": null
    },
    {
      "cell_type": "markdown",
      "source": "#### by member_casual status and day_of_week ",
      "metadata": {}
    },
    {
      "cell_type": "code",
      "source": "## Comparing by each day of week for member vs casual\nbike_rides %>%\n  group_by(member_casual, day_of_week) %>%\n  summarise(number_of_rides = n(),\n            average_ride_duration = mean(ride_length),\n            median = median(ride_length),\n            max = max(ride_length),\n            min = min(ride_length),\n           .groups=\"drop\") %>%\n  arrange(member_casual, day_of_week) %>% \n  ggplot(aes(x = day_of_week, y = number_of_rides, fill = member_casual)) +\n  labs(title =\"Total rides by Members and Casual riders Vs. Day of the week\") +\n  geom_col(width=0.5, position = position_dodge(width=0.5)) +\n  scale_y_continuous(labels = function(x) format(x, scientific = FALSE))",
      "metadata": {
        "trusted": true
      },
      "outputs": [],
      "execution_count": null
    },
    {
      "cell_type": "code",
      "source": "# A tibble: 14 × 7\n   member_casual day_of_week number_of_rides average_ride_duration median   max   min\n   <chr>         <chr>                 <int>                 <dbl>  <dbl> <dbl> <dbl>\n 1 casual        Friday               297617                  19.1  11.8   561.  1.02\n 2 casual        Monday               230337                  19.9  11.8   563.  1.02\n 3 casual        Saturday             389241                  22.5  14.1   566.  1.02\n 4 casual        Sunday               351339                  22.9  14.2   564.  1.02\n 5 casual        Thursday             256482                  17.3  10.8   566.  1.02\n 6 casual        Tuesday              232945                  18.0  10.9   565.  1.02\n 7 casual        Wednesday            239156                  17.0  10.6   563.  1.02\n 8 member        Friday               524124                  12.0   8.62  563.  1.02\n 9 member        Monday               470709                  11.6   8.35  566.  1.02\n10 member        Saturday             462840                  13.4   9.52  565.  1.02\n11 member        Sunday               416478                  13.6   9.52  560.  1.02\n12 member        Thursday             567941                  11.7   8.58  559.  1.02\n13 member        Tuesday              551274                  11.7   8.5   562.  1.02\n14 member        Wednesday            568184                  11.6   8.53  558.  1.02\n",
      "metadata": {
        "trusted": true
      },
      "outputs": [],
      "execution_count": null
    },
    {
      "cell_type": "code",
      "source": "JPEG Total rides by Members and Casual riders Vs. Day of the week",
      "metadata": {
        "trusted": true
      },
      "outputs": [],
      "execution_count": null
    },
    {
      "cell_type": "markdown",
      "source": "Based on the bar graph:<br>\n\n**Weekend Peaks:** Casual riders show a significant increase in rides during the weekends, especially on Saturdays.<br>\n**Member Consistency:** Members’ ride numbers are relatively consistent throughout the week, with a slight uptick on weekdays.<br>\n**Monday Dip:** Both members and casual riders have the lowest number of rides on Mondays.<br>\n**Distinct Patterns:** There is a clear difference in riding patterns between members and casual riders, with casual riders peaking on weekends and members showing steadier usage.<br>",
      "metadata": {}
    },
    {
      "cell_type": "markdown",
      "source": "#### by Day_of_week & Member_casual Status VS Avg_ride_duration",
      "metadata": {}
    },
    {
      "cell_type": "code",
      "source": "bike_rides %>%\n  group_by(member_casual, day_of_week) %>% \n  summarise(average_ride_duration = mean(ride_length)) %>% \n  ggplot(aes(x = day_of_week, y = average_ride_duration, fill = member_casual)) +\n  geom_col(position = \"dodge\") +\n  geom_text(aes(label = format(round(average_ride_duration, 2), nsmall = 2), vjust = - 0.5)) +\n  labs(title = \"Grouping Average Duration by Day of Week\")",
      "metadata": {
        "trusted": true
      },
      "outputs": [],
      "execution_count": null
    },
    {
      "cell_type": "code",
      "source": "# A tibble: 14 × 3\n# Groups:   member_casual [2]\nmember_casual    day_of_week        average_ride_duration\n   <chr>         <chr>                       <dbl>\n 1 casual        Friday                       19.2\n 2 casual        Monday                       20.0\n 3 casual        Saturday                     22.7\n 4 casual        Sunday                       23.0\n 5 casual        Thursday                     17.4\n 6 casual        Tuesday                      18.1\n 7 casual        Wednesday                    17.1\n 8 member        Friday                       12.1\n 9 member        Monday                       11.7\n10 member        Saturday                     13.5\n11 member        Sunday                       13.7\n12 member        Thursday                     11.8\n13 member        Tuesday                      11.7\n14 member        Wednesday                    11.7",
      "metadata": {
        "trusted": true
      },
      "outputs": [],
      "execution_count": null
    },
    {
      "cell_type": "code",
      "source": "JPEG Avg duration by day_of_week.jpg",
      "metadata": {
        "trusted": true
      },
      "outputs": [],
      "execution_count": null
    },
    {
      "cell_type": "markdown",
      "source": "Based on the bar graph, here are the key findings: <br>\n\n**Casual vs. Member:** Casual riders consistently have higher average trip durations than members across all days of the week. <br>\n**Peak Days:**\nFor casual riders, the longest average trip duration occurs on Sunday, approximately 22.70 minutes.<br>\nFor members, the peak is on Saturday, nearly 13.48 minutes.<br>\n**Lowest Durations:**\nThe shortest average trip duration for casual riders is on Wednesday, about 17.15 minutes.<br>\nFor members, it’s on Tuesday, roughly 11.65 minutes.",
      "metadata": {}
    },
    {
      "cell_type": "markdown",
      "source": "#### by Member_casual Status & Season",
      "metadata": {}
    },
    {
      "cell_type": "code",
      "source": "bike_rides %>%\n  group_by(member_casual, season) %>%\n  summarise(number_of_rides = n(),\n            average_ride_duration = mean(ride_length),\n            median = median(ride_length),\n           .groups=\"drop\") %>%\n  arrange(season) %>% \n  ggplot(aes(x = season, y = average_ride_duration, fill = member_casual)) +\n  labs(title =\"Total rides by Members and Casual riders Vs. Season\") +\n  geom_col(width=0.5, position = position_dodge(width=0.5)) +\n  scale_y_continuous(labels = function(x) format(x, scientific = FALSE))",
      "metadata": {
        "trusted": true
      },
      "outputs": [],
      "execution_count": null
    },
    {
      "cell_type": "code",
      "source": "# A tibble: 8 × 5\n  member_casual season number_of_rides average_ride_duration median\n  <chr>         <chr>            <int>                 <dbl>  <dbl>\n1 casual        Fall            519523                  19.0  11.4 \n2 member        Fall            998935                  11.9   8.63\n3 casual        Spring          425321                  20.0  12.0 \n4 member        Spring          809917                  11.9   8.52\n5 casual        Summer          908727                  21.6  13.5 \n6 member        Summer         1270922                  13.3   9.75\n7 casual        Winter          129853                  14.0   8.53\n8 member        Winter          451516                  10.6   7.47",
      "metadata": {
        "trusted": true
      },
      "outputs": [],
      "execution_count": null
    },
    {
      "cell_type": "code",
      "source": "JPEG Graph by Member_casual & Season",
      "metadata": {
        "trusted": true
      },
      "outputs": [],
      "execution_count": null
    },
    {
      "cell_type": "markdown",
      "source": "Based on the bar graph, here are the key findings: <br>\n\n**Seasonal Trends:** The graph shows a clear seasonal pattern in the average number of rides taken by members and casual riders. <br>\n**Summer Peak:** Casual riders have a significantly higher average number of rides in the summer compared to members.<br>\n**Winter Drop:** Both groups experience a drop in average rides during the winter, with members still riding more than casual riders.<br>\n**Spring Equilibrium:** In spring, the average number of rides is similar for both members and casual riders, with members slightly ahead.<br>",
      "metadata": {}
    },
    {
      "cell_type": "markdown",
      "source": "####  by number of rides per month by day_of_week for Memberas and Casuals",
      "metadata": {}
    },
    {
      "cell_type": "code",
      "source": "ggplot(data = bike_rides) + geom_bar(mapping = aes(x = day_of_week, fill = member_casual)) +\n  facet_wrap(~ month) + \n  ylab(\"number_of_rides\") + \n  labs(title = \"Number of Rides per Month\") +\n  scale_y_continuous(labels = function(x) format(x, scientific = FALSE)) +\n  theme(legend.position = \"none\") +\ntheme(axis.text.x = element_text(angle = 45, vjust=0.5, size = 6)) ",
      "metadata": {
        "trusted": true
      },
      "outputs": [],
      "execution_count": null
    },
    {
      "cell_type": "code",
      "source": "JPEG number of rides per month by day_of_week for Memberas and Casuals",
      "metadata": {
        "trusted": true
      },
      "outputs": [],
      "execution_count": null
    },
    {
      "cell_type": "markdown",
      "source": "**Peak Season:** The peak season for bike rides is during the summer months. During this time, almost all days are popular for riding. <br>\n**Least Popular Months:** The least popular months for bike rides are December, January, February, and March.<br>\n**Member vs. Casual Riders:**\nSummer Months: In the summer months, both members and casual riders contribute almost equally to the total number of rides.\nWinter Season: During the winter season, only members typically use the bikes.<br>",
      "metadata": {}
    },
    {
      "cell_type": "markdown",
      "source": "#### by Rideable Type & Member_casual Status VS Avg_ride_duration",
      "metadata": {}
    },
    {
      "cell_type": "code",
      "source": "bike_rides %>%\n  group_by(member_casual, rideable_type) %>%\n  summarise(number_of_rides = n(),\n            average_ride_duration = mean(ride_length),\n            median = median(ride_length),\n           .groups=\"drop\") %>%\n  arrange(rideable_type) %>% \n  ggplot(aes(x = rideable_type, y = average_ride_duration, fill = member_casual)) +\n  labs(title =\"Avarage ride duration by Members and Casual riders Vs. Bike\") +\n  geom_col(width=0.5, position = position_dodge(width=0.5)) +\n  scale_y_continuous(labels = function(x) format(x, scientific = FALSE))",
      "metadata": {
        "trusted": true
      },
      "outputs": [],
      "execution_count": null
    },
    {
      "cell_type": "code",
      "source": "A tibble: 5 × 5\nmember_casual   rideable_type     number_of_rides    average_ride_duration   median\n  <chr>         <chr>                   <int>               <dbl>           <dbl>\n1 casual        classic_bike           854545                24.1           14.6 \n2 member        classic_bike          1775578                12.8           9.13\n3 casual        docked_bike             74958                45.8            28   \n4 casual        electric_bike         1053921                14.9           10.2 \n5 member        electric_bike         1755712                11.7           8.53",
      "metadata": {
        "trusted": true
      },
      "outputs": [],
      "execution_count": null
    },
    {
      "cell_type": "code",
      "source": "JPEG Ride duration_member_bike_type.jpg",
      "metadata": {
        "trusted": true
      },
      "outputs": [],
      "execution_count": null
    },
    {
      "cell_type": "markdown",
      "source": "Here are the key findings from the bar graph:<br>\n\n**Electric Bikes:** Electric bikes show the highest average ride durations across all days. <br>\n**Weekend Trends:** Saturdays and Sundays experience the longest average ride durations for all bike types.<br>\n**Classic Bikes:** Classic bikes generally have the shortest average ride durations, except on Wednesdays.<br>\n**Weekday vs. Weekend:** There is a significant increase in average ride durations during the weekends compared to weekdays.<br>",
      "metadata": {}
    },
    {
      "cell_type": "markdown",
      "source": "#### by number of rides by day of week for Members  and Casuals",
      "metadata": {}
    },
    {
      "cell_type": "code",
      "source": "## Rides by day of week\nbike_rides %>%\n    group_by(member_casual, day_of_week) %>%\n    summarise(number_of_rides = n(),\n.groups=\"drop\") %>%\n  arrange(day_of_week) %>%\n  ggplot(aes(x = day_of_week, y = number_of_rides, fill = member_casual)) +\n  geom_col(position = \"dodge\") + labs(title = \"Rides by Day of Week\") +\n  scale_y_continuous(labels = function(x) format(x, scientific = FALSE))\n",
      "metadata": {
        "trusted": true
      },
      "outputs": [],
      "execution_count": null
    },
    {
      "cell_type": "code",
      "source": "# A tibble: 14 × 3\n   member_casual day_of_week number_of_rides\n   <chr>         <chr>                 <int>\n 1 casual        Friday               295557\n 2 member        Friday               519450\n 3 casual        Monday               228818\n 4 member        Monday               466641\n 5 casual        Saturday             386438\n 6 member        Saturday             459067\n 7 casual        Sunday               348826\n 8 member        Sunday               413020\n 9 casual        Thursday             254849\n10 member        Thursday             563053\n11 casual        Tuesday              231359\n12 member        Tuesday              546608\n13 casual        Wednesday            237577\n14 member        Wednesday            563451",
      "metadata": {
        "trusted": true
      },
      "outputs": [],
      "execution_count": null
    },
    {
      "cell_type": "code",
      "source": "JPEG Number of rides by day of week",
      "metadata": {
        "trusted": true
      },
      "outputs": [],
      "execution_count": null
    },
    {
      "cell_type": "markdown",
      "source": "**Peak Day:** The highest number of rides for both casual riders and members is on Saturday. <br>\n**Member Dominance:** Members take more rides than casual riders on every day of the week.<br>\n**Weekend Patterns:** The smallest difference in the number of rides between members and casual riders is observed on weekends.<br>\n**Weekly Trend:** There is a noticeable increase in rides from Monday to Saturday, with a slight dip on Sunday.<br>\n**Lowest Rides:** Tuesday has the fewest rides for casual riders, while Monday has the fewest for members.<br>",
      "metadata": {}
    },
    {
      "cell_type": "markdown",
      "source": "#### by number of rides by Month for Members  and Casuals",
      "metadata": {}
    },
    {
      "cell_type": "code",
      "source": " ## Rides by month\n  bike_rides %>%\n          group_by(member_casual, month) %>%\n          summarise(number_of_rides = n(),\n        .groups=\"drop\") %>%\n          arrange(month) %>%\n          ggplot(aes(x = month, y = number_of_rides, fill = member_casual)) +\n          geom_col(position = \"dodge\") + labs(title = \"Rides by Month\") +\n          scale_y_continuous(labels = function(x) format(x, scientific = FALSE))+ theme(axis.text.x = element_text(angle = 45, vjust=0.5, size = 6)) ",
      "metadata": {
        "trusted": true
      },
      "outputs": [],
      "execution_count": null
    },
    {
      "cell_type": "code",
      "source": "JPEG Number of rides by month",
      "metadata": {
        "trusted": true
      },
      "outputs": [],
      "execution_count": null
    },
    {
      "cell_type": "markdown",
      "source": "**Seasonal Trends:** Ride frequency increases during warmer months, peaking in August, and decreases during colder months, with the lowest point in February.<br>\n**Member Consistency:** Members consistently take more rides than casual riders throughout the year.<br>\n**Casual vs. Member Peak:** Both casual and member rides peak in August, indicating it’s the most popular month for bike-sharing.<br>\n**Off-Peak Observations:** There is a notable decline in rides from October to November for both user types.<br>",
      "metadata": {}
    },
    {
      "cell_type": "markdown",
      "source": "#### by number of rides by Day_of_week depending from bike type",
      "metadata": {}
    },
    {
      "cell_type": "code",
      "source": " bike_rides %>%\n                   group_by(rideable_type, day_of_week) %>%\n                   summarise(number_of_rides = n(),\n                 .groups=\"drop\") %>%\n                   arrange(day_of_week) %>%\n                   ggplot(aes(x = day_of_week, y = number_of_rides, fill = rideable_type)) +\n                   geom_col(position = \"dodge\") + labs(title = \"Number of rides depending from bike type\") +\n                   scale_y_continuous(labels = function(x) format(x, scientific = FALSE))+ theme(axis.text.x = element_text(angle = 45, vjust=0.5, size = 6)) ",
      "metadata": {
        "trusted": true
      },
      "outputs": [],
      "execution_count": null
    },
    {
      "cell_type": "code",
      "source": "JPEG Number of rides depending from bike type",
      "metadata": {
        "trusted": true
      },
      "outputs": [],
      "execution_count": null
    },
    {
      "cell_type": "markdown",
      "source": "**Classic Bike Preference:** Classic bikes have the highest number of rides across all days. <br>\n**Docked Bike Dip:** Docked bikes see a significant drop in usage on weekends.<br>\n**Electric Bike Consistency:** Electric bikes have the least fluctuation in rides between weekdays and weekends.<br>\n**Sunday Slump:** All bike types experience a decrease in rides on Monday.<br>",
      "metadata": {}
    },
    {
      "cell_type": "markdown",
      "source": "#### by average ride duration by Day_of_week depending from bike type",
      "metadata": {}
    },
    {
      "cell_type": "code",
      "source": "bike_rides %>%\n     group_by(rideable_type, day_of_week) %>%\n     summarise(avg_duration = mean(ride_length), .groups = \"drop\") %>%\n     arrange(day_of_week) %>%\n     ggplot(aes(x = day_of_week, y = avg_duration, fill = rideable_type)) +\n     geom_col(position = \"dodge\") +\n     labs(title = \"Average ride duration with different bike types by each day\") +\n     scale_y_continuous(labels = function(x) format(x, scientific = FALSE)) +\n     theme(axis.text.x = element_text(angle = 45, vjust = 0.5, size = 6))",
      "metadata": {
        "trusted": true
      },
      "outputs": [],
      "execution_count": null
    },
    {
      "cell_type": "code",
      "source": "JPEG Average ride duration with different bike types by each day",
      "metadata": {
        "trusted": true
      },
      "outputs": [],
      "execution_count": null
    },
    {
      "cell_type": "markdown",
      "source": "**Classic Bikes:** Generally have the lowest average duration, suggesting they are used for shorter, quicker trips.<br>\n**Electric Bikes:** Have average durations between classic and docked bikes, indicating a balance between convenience and travel time.<br>\n**Docked Bikes:** Show the highest average duration, which may imply they are preferred for longer rides or leisure activities.<br>",
      "metadata": {}
    },
    {
      "cell_type": "code",
      "source": "# Calculate the counts for each category in the 'member_casual' column\nnumber_of_rides <- table(bike_rides$member_casual)\n\n# Calculate the percentages\nride_percents <- prop.table(number_of_rides) * 100\n\n# Create the pie chart\npie(number_of_rides,\n    labels = paste(round(number_of_rides), round(ride_percents, 1), \"%\")), # Include percentages in labels\n    col = c(\"skyblue\", \"lightgreen\"),  # Colors for each slice\n    main = \"Bike Rides by Member Type\"  # Title of the chart\n    )\n\n# Add a legend\nlegend(\"topright\", legend = c(\"Casual\", \"Member\"), fill = c(\"skyblue\", \"lightgreen\"))",
      "metadata": {
        "trusted": true
      },
      "outputs": [],
      "execution_count": null
    },
    {
      "cell_type": "code",
      "source": "JPEG Bike rides by member type",
      "metadata": {
        "trusted": true
      },
      "outputs": [],
      "execution_count": null
    },
    {
      "cell_type": "markdown",
      "source": "**Member:** Represents 64% of bike rides, totaling 3,531,290. <br>\n**Casual:** Accounts for 36% of bike rides, with a total of 1,983,424.<br>",
      "metadata": {}
    },
    {
      "cell_type": "markdown",
      "source": "#### Top 10 start stations ",
      "metadata": {}
    },
    {
      "cell_type": "code",
      "source": "## Created summary for top 10 stations\ntop_station <- bike_rides %>%\n  group_by(start_station_name) %>%\n  summarise(total_count = length(na.omit(start_station_name))) %>%\n  arrange(desc(total_count)) %>%\n  top_n(10)\n\n\n\ntop_station <- top_station[!(is.na(top_station$start_station_name) | top_station$start_station_name == \"\"), ]\ntop_station",
      "metadata": {
        "trusted": true
      },
      "outputs": [],
      "execution_count": null
    },
    {
      "cell_type": "code",
      "source": "A tibble: 10 × 2\n   start_station_name                 total_count\n   <chr>                                    <int>\n 1 Streeter Dr & Grand Ave                  61195\n 2 DuSable Lake Shore Dr & Monroe St        38948\n 3 Michigan Ave & Oak St                    36262\n 4 Clark St & Elm St                        34993\n 5 DuSable Lake Shore Dr & North Blvd       34838\n 6 Kingsbury St & Kinzie St                 34112\n 7 Wells St & Concord Ln                    32764\n 8 Clinton St & Washington Blvd             31633\n 9 Wells St & Elm St                        29718\n10 Theater on the Lake                      29217",
      "metadata": {
        "trusted": true
      },
      "outputs": [],
      "execution_count": null
    },
    {
      "cell_type": "code",
      "source": "> ggplot(data = top) +\n     geom_col(mapping = aes(x = reorder(start_station_name, -total_count), y = total_count, fill = start_station_name),\n              position = \"dodge\") +\n     labs(title = \"Top Ten Start Stations\") +\n     theme(axis.text.x = element_blank(), axis.title.x = element_blank())",
      "metadata": {
        "trusted": true
      },
      "outputs": [],
      "execution_count": null
    },
    {
      "cell_type": "code",
      "source": "JPEG Top Ten Start Stations",
      "metadata": {
        "trusted": true
      },
      "outputs": [],
      "execution_count": null
    },
    {
      "cell_type": "markdown",
      "source": "**Most Popular:** “Clinton St & Washington Blvd” is the most popular start station with over 6000 starts. <br>\n**High Usage:** “Canal St & Madison St” also shows high usage, closely following the top station.<br>",
      "metadata": {}
    },
    {
      "cell_type": "markdown",
      "source": "#### Top 10 start stations for Members",
      "metadata": {}
    },
    {
      "cell_type": "code",
      "source": "## Top Ten Stations for Members\ntop_station1 <- bike_rides %>%\n  filter(member_casual == \"member\") \n## excluding station name with empty cells\ntop_station1 <- top_station1[!(is.na(top_station1$start_station_name) | top_station1$start_station_name == \"\"), ]\n\ntop_station_member <- top_station1 %>%\n  group_by(start_station_name) %>%\n  summarise(total_count = length(na.omit(start_station_name))) %>%\n  arrange(desc(total_count)) %>%\n  top_n(10)\n\ntop_station1 <- top_station1[!(is.na(top_station1$start_station_name) | top_station1$start_station_name == \"\"), ]\ntop_station_member",
      "metadata": {
        "trusted": true
      },
      "outputs": [],
      "execution_count": null
    },
    {
      "cell_type": "code",
      "source": "# A tibble: 10 × 2\n   start_station_name           total_count\n   <chr>                              <int>\n 1 Kingsbury St & Kinzie St           25515\n 2 Clinton St & Washington Blvd       25297\n 3 Clark St & Elm St                  24417\n 4 Wells St & Concord Ln              20871\n 5 Wells St & Elm St                  19925\n 6 Clinton St & Madison St            19781\n 7 University Ave & 57th St           19382\n 8 Broadway & Barry Ave               18523\n 9 Loomis St & Lexington St           18268\n10 Ellis Ave & 60th St                17637",
      "metadata": {
        "trusted": true
      },
      "outputs": [],
      "execution_count": null
    },
    {
      "cell_type": "code",
      "source": "ggplot(data = top_station_member) +\n     geom_col(mapping = aes(x = reorder(start_station_name, -total_count), y = total_count, fill = start_station_name),\n     position = \"dodge\") +\n     labs(title = \"Top Ten Start Stations by Members\") +\n     theme(axis.text.x = element_blank(), axis.title.x = element_blank())",
      "metadata": {
        "trusted": true
      },
      "outputs": [],
      "execution_count": null
    },
    {
      "cell_type": "code",
      "source": "JPEG Top ten start stations for members",
      "metadata": {
        "trusted": true
      },
      "outputs": [],
      "execution_count": null
    },
    {
      "cell_type": "markdown",
      "source": "**Most Popular Station:** Clinton St & Madison St has the highest total count of starts by members.<br>\n**Close Second:** Broadway & Barry Ave follows closely behind in popularity.<br>\n**Consistent Usage:** Most of the top ten stations show a relatively even distribution of member usage.<br>\n**Least Utilized:** Wells St & Elm St has the lowest total count among the top stations.<br>",
      "metadata": {}
    },
    {
      "cell_type": "markdown",
      "source": "#### Top 10 start stations for Members",
      "metadata": {}
    },
    {
      "cell_type": "code",
      "source": "## Top Ten Stations for Casual\ntop_station2 <- bike_rides %>%\n  filter(member_casual == \"casual\") \n## excluding station name with empty cells\ntop_station2 <- top_station2[!(is.na(top_station1$start_station_name) | top_station2$start_station_name == \"\"), ]\n\ntop_station_casual <- top_station2 %>%\n  group_by(start_station_name) %>%\n  summarise(total_count = length(na.omit(start_station_name))) %>%\n  arrange(desc(total_count)) %>%\n  top_n(10)\n\ntop_station2 <- top_station2[!(is.na(top_station1$start_station_name) | top_station2$start_station_name == \"\"), ]\ntop_station_casual",
      "metadata": {
        "trusted": true
      },
      "outputs": [],
      "execution_count": null
    },
    {
      "cell_type": "code",
      "source": "# A tibble: 10 × 2\n   start_station_name                 total_count\n   <chr>                                    <int>\n 1 Streeter Dr & Grand Ave                  44500\n 2 DuSable Lake Shore Dr & Monroe St        29492\n 3 Michigan Ave & Oak St                    21989\n 4 DuSable Lake Shore Dr & North Blvd       19729\n 5 Millennium Park                          19451\n 6 Shedd Aquarium                           17209\n 7 Theater on the Lake                      15874\n 8 Dusable Harbor                           14966\n 9 Wells St & Concord Ln                    11893\n10 Adler Planetarium                        11547",
      "metadata": {
        "trusted": true
      },
      "outputs": [],
      "execution_count": null
    },
    {
      "cell_type": "code",
      "source": "ggplot(data = top_station_casual) +\n     geom_col(mapping = aes(x = reorder(start_station_name, -total_count), y = total_count, fill = start_station_name),\n     position = \"dodge\") +\n     labs(title = \"Top Ten Start Stations by Casual\") +\n     theme(axis.text.x = element_blank(), axis.title.x = element_blank())",
      "metadata": {
        "trusted": true
      },
      "outputs": [],
      "execution_count": null
    },
    {
      "cell_type": "code",
      "source": "JPEG Top ten start stations for Casual",
      "metadata": {
        "trusted": true
      },
      "outputs": [],
      "execution_count": null
    },
    {
      "cell_type": "markdown",
      "source": "**Most Popular:** DuSable Harbor is the most frequented start station by casual users, with a significantly higher total count than other stations.<br>\n**High Activity:** Streeter Dr & Grand Ave and DuSable Lake Shore Dr & Monroe St also show high casual usage.<br>\n**Varied Usage:** The remaining stations have progressively smaller counts, indicating varied preferences among casual riders.<br>\n**Least Popular:** Wells St & Concord Ln has the lowest total count among the top ten stations for casual starts.<br>",
      "metadata": {}
    },
    {
      "cell_type": "markdown",
      "source": "#### The Most popular Start time by Member Type",
      "metadata": {}
    },
    {
      "cell_type": "code",
      "source": "# Load the scales package for label_number()\nlibrary(scales)  \n\n\nbike_rides %>%\n  group_by(start_hour, day_of_week, member_casual) %>%\n  summarise(number_of_rides = n()) %>%\n  ggplot(aes(x = factor(start_hour), y = number_of_rides, color = member_casual)) +\n  geom_line(size = 1) +\n  geom_point(size = 5, alpha = 0.3) +\n  facet_wrap(~day_of_week) +\n  labs(title = \"Number of Rides by Start Hour and Member Type\",\n       x = \"Start Hour for Members\") +\n  scale_x_discrete(limits = as.character(0:23)) +  \n  scale_y_continuous(labels = label_number(scale_cut = cut_short_scale())) +\ntheme(axis.text.x = element_text(angle = 45, vjust = 0.5, size = 6))",
      "metadata": {
        "trusted": true
      },
      "outputs": [],
      "execution_count": null
    },
    {
      "cell_type": "code",
      "source": "JPEG Number of Rides by Start Hour and Member Type",
      "metadata": {
        "trusted": true
      },
      "outputs": [],
      "execution_count": null
    },
    {
      "cell_type": "markdown",
      "source": "**Dual Peaks:** Both ‘casual’ and ‘member’ riders exhibit two prominent peaks in ride numbers daily, likely corresponding to rush hours. <br>\n**Evening Preference:** The evening peak generally sees more rides than the morning peak.<br>\n**Weekday Consistency:** ‘Member’ riders show more consistent ride numbers throughout weekdays.<br>\n**Weekend Casual Rise:** On weekends, ‘casual’ riders increase rides during midday, especially on Saturday.<br>",
      "metadata": {}
    },
    {
      "cell_type": "markdown",
      "source": "# Common Key Findings for Bike-Sharing Programs:",
      "metadata": {}
    },
    {
      "cell_type": "markdown",
      "source": "## Bike-Sharing Usage Patterns\n\n\n- The highest number of rides for both casual riders and members occurs on Saturday.\n- Members take more rides than casual riders on every day of the week.\n- The smallest difference in the number of rides between members and casual riders is observed on weekends.\n- There is a noticeable increase in rides from Monday to Saturday, with a slight dip on Sunday.\n- Tuesday has the fewest rides for casual riders, while Monday has the fewest for members.\n\n## Seasonal Trends in Bike-Sharing\n\n- Ride frequency increases during warmer months, peaking in August.\n- Members consistently take more rides throughout the year.\n- Both casual and member rides peak in August.\n- There is a notable decline in rides from October to November for both user types.\n\n## Bike Type Preferences\n\n- Classic bikes have the highest number of rides across all days.\n- Have average durations between classic and docked bikes, indicating a balance between convenience and travel time.\n- Show the highest average duration, which may imply they are preferred for longer rides or leisure activities.\n\n# Start Station Popularity\n\n\n- \"Clinton St & Washington Blvd\" is the most popular start station with over 6000 starts.\n- \"Canal St & Madison St\" also shows high usage, closely following the top station.\n- Most of the top ten stations show a relatively even distribution of member usage.\n- Wells St & Elm St has the lowest total count among the top stations.\n\n## Casual vs. Member Riding Patterns\n\n- Both casual and member riders exhibit two prominent peaks in ride numbers daily, likely corresponding to rush hours.\n- The evening peak generally sees more rides than the morning peak.\n- Members show more consistent ride numbers throughout weekdays.\n- On weekends, casual riders increase rides during midday, especially on Saturdays.\n",
      "metadata": {}
    },
    {
      "cell_type": "markdown",
      "source": "# Recommendations to Increase Bike-Share Membership:",
      "metadata": {}
    },
    {
      "cell_type": "markdown",
      "source": "## Bike-Sharing Program Recommendations\n\n### Targeted Marketing\n- **Focus on Casual Riders**: Tailor marketing efforts specifically to casual riders.\n- **Weekend and Summer Focus**: Highlight membership benefits during weekends and summer months when casual usage peaks.\n- **Cost Savings and Convenience**: Emphasize the cost savings and convenience of bike sharing for casual riders.\n\n### Membership Incentives\n- **Promotions for Conversion**: Offer promotions or discounts to casual riders who convert to members.\n- **Ride Threshold**: Consider offering incentives after a certain number of rides to encourage membership.\n- **Seasonal Offers**: Introduce special offers during specific seasons, such as summer.\n\n### Station Optimization\n- **High-Traffic Stations**: Improve bike availability and visibility at top casual rider stations.\n- **Strategic Placement**: Focus on stations like Streeter Dr & Grand Ave and DuSable Lake Shore Dr & Monroe St.\n- **User-Friendly Stations**: Ensure stations are user-friendly and well-maintained.\n\n### Ride Experience Enhancement\n- **Guided Tours**: Offer guided bike tours starting from popular stations.\n- **Suggested Routes**: Provide suggested routes for casual riders to explore the city.\n- **Safety and Comfort**: Enhance the overall riding experience to encourage repeat usage.\n\n### Community Engagement\n- **Collaborate with local organizations:** schools, and businesses to raise awareness.\n- Host community events, workshops, or bike safety classes to engage residents.\n\n### Integration with Public Transit\n- Integrate bike sharing with existing public transportation systems (e.g., buses, trains).\n- Offer joint memberships or seamless transfers between bike share and transit.\n",
      "metadata": {}
    }
  ]
}